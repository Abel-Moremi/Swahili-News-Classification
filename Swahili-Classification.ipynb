{
 "cells": [
  {
   "cell_type": "markdown",
   "metadata": {},
   "source": [
    "# DATA EXPLORATION"
   ]
  },
  {
   "cell_type": "code",
   "execution_count": 1,
   "metadata": {},
   "outputs": [
    {
     "name": "stdout",
     "output_type": "stream",
     "text": [
      "category\n"
     ]
    }
   ],
   "source": [
    "# Import pandas\n",
    "import pandas as pd\n",
    "\n",
    "data = pd.read_csv('Data/Train.csv', index_col='id')\n",
    "# print(data.head())\n",
    "# print(data.info())\n",
    "# print(data.describe())\n",
    "# print(data.dtypes.value_counts())\n",
    "\n",
    "# Convert data['category'] to a categorical type\n",
    "data['category'] = data['category'].astype('category')\n",
    "print(data['category'].dtypes)"
   ]
  },
  {
   "cell_type": "code",
   "execution_count": 2,
   "metadata": {
    "scrolled": true
   },
   "outputs": [
    {
     "data": {
      "image/png": "[encoded data removed]",
      "text/plain": [
       "<Figure size 432x288 with 1 Axes>"
      ]
     },
     "metadata": {
      "needs_background": "light"
     },
     "output_type": "display_data"
    }
   ],
   "source": [
    "# Import matplotlib.pyplot\n",
    "import matplotlib.pyplot as plt\n",
    "\n",
    "data['category'].value_counts().plot(kind='bar')\n",
    "\n",
    "# Label the axes\n",
    "plt.xlabel('Categories')\n",
    "plt.ylabel('Number of Articles')\n",
    "\n",
    "# Display the plot\n",
    "plt.show()"
   ]
  },
  {
   "cell_type": "markdown",
   "metadata": {},
   "source": [
    "# TRAINING MODEL"
   ]
  },
  {
   "cell_type": "code",
   "execution_count": 20,
   "metadata": {
    "scrolled": false
   },
   "outputs": [
    {
     "data": {
      "text/plain": [
       "Pipeline(steps=[('vec',\n",
       "                 HashingVectorizer(ngram_range=(1, 2), norm=None,\n",
       "                                   token_pattern='[A-Za-z0-9]+(?=\\\\s+)')),\n",
       "                ('clf', OneVsRestClassifier(estimator=SVC()))])"
      ]
     },
     "execution_count": 20,
     "metadata": {},
     "output_type": "execute_result"
    }
   ],
   "source": [
    "# Import other necessary modules\n",
    "from sklearn.pipeline import Pipeline\n",
    "from sklearn.model_selection import train_test_split\n",
    "from sklearn.linear_model import LogisticRegression\n",
    "from sklearn.ensemble import RandomForestClassifier\n",
    "from sklearn.multiclass import OneVsRestClassifier\n",
    "from sklearn.feature_extraction.text import HashingVectorizer\n",
    "from sklearn.svm import SVC\n",
    "\n",
    "# Split out  data\n",
    "X_train, X_test, y_train, y_test = train_test_split(data['content'],\n",
    "                                                    pd.get_dummies(data['category']), \n",
    "                                                   random_state=1,\n",
    "                                                   test_size=0.2,\n",
    "                                                   shuffle=False)\n",
    "\n",
    "# Create the token pattern: TOKENS_ALPHANUMERIC\n",
    "TOKENS_ALPHANUMERIC = '[A-Za-z0-9]+(?=\\\\s+)'\n",
    "\n",
    "# Instantiate Pipeline object: pl\n",
    "pl = Pipeline([\n",
    "        ('vec', HashingVectorizer(token_pattern=TOKENS_ALPHANUMERIC, norm=None, binary=False, ngram_range=(1, 2))),\n",
    "        ('clf', OneVsRestClassifier(SVC()))\n",
    "    ])\n",
    "\n",
    "# Fit to the training data\n",
    "pl.fit(X_train, y_train)"
   ]
  },
  {
   "cell_type": "markdown",
   "metadata": {},
   "source": [
    "# TESTING MODEL"
   ]
  },
  {
   "cell_type": "code",
   "execution_count": 21,
   "metadata": {},
   "outputs": [
    {
     "name": "stdout",
     "output_type": "stream",
     "text": [
      "\n",
      "Accuracy of model:  0.8031037827352085\n"
     ]
    }
   ],
   "source": [
    "# Compute and print accuracy\n",
    "accuracy = pl.score(X_test, y_test)\n",
    "print(\"\\nAccuracy of model: \", accuracy)"
   ]
  },
  {
   "cell_type": "markdown",
   "metadata": {},
   "source": [
    "# PREPARATION FOR ZINDI SUBMISSION"
   ]
  },
  {
   "cell_type": "code",
   "execution_count": null,
   "metadata": {},
   "outputs": [],
   "source": [
    "# read test data in pd.dataframe\n",
    "testData = pd.read_csv('Data/Test.csv', index_col='swahili_id')\n",
    "# print(testData.head())\n",
    "\n",
    "prediction = pl.predict(testData['content'])\n",
    "\n",
    "# Prep the prediction for submission\n",
    "submission =  pd.DataFrame(prediction, columns = ['biashara', 'burudani', 'kimataifa', 'kitaifa', 'michezo'])\n",
    "submission.index = testData.index\n",
    "submission.index.rename('test_id', inplace=True)\n",
    "\n",
    "# Rearrange columns to match submission guidelines\n",
    "submission = submission[[\"kitaifa\", \"michezo\", \"biashara\", \"kimataifa\", \"burudani\"]]\n",
    "print(submission.head())\n",
    "\n",
    "# Save to submission.csv\n",
    "submission.to_csv('Submission.csv')"
   ]
  },
  {
   "cell_type": "code",
   "execution_count": null,
   "metadata": {},
   "outputs": [],
   "source": []
  }
 ],
 "metadata": {
  "kernelspec": {
   "display_name": "Python 3",
   "language": "python",
   "name": "python3"
  },
  "language_info": {
   "codemirror_mode": {
    "name": "ipython",
    "version": 3
   },
   "file_extension": ".py",
   "mimetype": "text/x-python",
   "name": "python",
   "nbconvert_exporter": "python",
   "pygments_lexer": "ipython3",
   "version": "3.8.3"
  }
 },
 "nbformat": 4,
 "nbformat_minor": 2
}
